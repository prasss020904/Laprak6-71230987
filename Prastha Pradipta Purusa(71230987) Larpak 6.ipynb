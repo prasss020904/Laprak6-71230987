{
 "cells": [
  {
   "cell_type": "code",
   "execution_count": 2,
   "id": "6630bc66",
   "metadata": {},
   "outputs": [
    {
     "name": "stdout",
     "output_type": "stream",
     "text": [
      "Masukkan angka: 21\n",
      "Prima terdekat < 21 adalah 19\n"
     ]
    }
   ],
   "source": [
    "n = int(input(\"Masukkan angka: \"))\n",
    "\n",
    "for x in range(n - 1, 1, -1):\n",
    "    for y in range(2,x):\n",
    "        if x % y == 0:\n",
    "            break\n",
    "    else:\n",
    "        bilangan_prima_terdekat = x\n",
    "        break\n",
    "\n",
    "if bilangan_prima_terdekat:\n",
    "    print(f\"Prima terdekat < {n} adalah {bilangan_prima_terdekat}\")\n",
    "else:\n",
    "    print(f\"Tidak ada bilangan prima yang kurang dari {n}\")"
   ]
  },
  {
   "cell_type": "code",
   "execution_count": 3,
   "id": "9d78104b",
   "metadata": {},
   "outputs": [
    {
     "name": "stdout",
     "output_type": "stream",
     "text": [
      "Masukan n:6\n",
      "720 6 5 4 3 2 1 \n",
      "120 5 4 3 2 1 \n",
      "24 4 3 2 1 \n",
      "6 3 2 1 \n",
      "2 2 1 \n",
      "1 1 \n"
     ]
    }
   ],
   "source": [
    "n = int(input(\"Masukan n:\"))\n",
    "\n",
    "for x in range(n,0,-1):\n",
    "    faktorial = 1\n",
    "    for y in range(x,0,-1):\n",
    "        faktorial *= y\n",
    "    print(faktorial,end=\" \")\n",
    "    for z in range(x,0,-1):\n",
    "        print(z,end=\" \")\n",
    "    print()"
   ]
  },
  {
   "cell_type": "code",
   "execution_count": 4,
   "id": "76bd3d75",
   "metadata": {},
   "outputs": [
    {
     "name": "stdout",
     "output_type": "stream",
     "text": [
      "Masukan tinggi:5\n",
      "Masukan lebar:4\n",
      "1 2 3 4 \n",
      "5 6 7 8 \n",
      "9 10 11 12 \n",
      "13 14 15 16 \n",
      "17 18 19 20 \n"
     ]
    }
   ],
   "source": [
    "tinggi = int(input(\"Masukan tinggi:\"))\n",
    "lebar = int(input(\"Masukan lebar:\"))\n",
    "\n",
    "angka = 1\n",
    "for i in range(tinggi):\n",
    "    for j in range(lebar):\n",
    "        print(angka,end=\" \")\n",
    "        angka +=1\n",
    "    print()"
   ]
  },
  {
   "cell_type": "code",
   "execution_count": null,
   "id": "9917b247",
   "metadata": {},
   "outputs": [],
   "source": []
  }
 ],
 "metadata": {
  "kernelspec": {
   "display_name": "Python 3 (ipykernel)",
   "language": "python",
   "name": "python3"
  },
  "language_info": {
   "codemirror_mode": {
    "name": "ipython",
    "version": 3
   },
   "file_extension": ".py",
   "mimetype": "text/x-python",
   "name": "python",
   "nbconvert_exporter": "python",
   "pygments_lexer": "ipython3",
   "version": "3.11.5"
  }
 },
 "nbformat": 4,
 "nbformat_minor": 5
}
